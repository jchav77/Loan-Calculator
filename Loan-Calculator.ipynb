{
 "cells": [
  {
   "cell_type": "code",
   "execution_count": 17,
   "id": "ce5f4623-7fff-4da3-820d-a3bcc3a34cd8",
   "metadata": {},
   "outputs": [],
   "source": [
    "import sqlite3\n",
    "import datetime\n",
    "from dateutil.relativedelta import relativedelta\n",
    "import pandas as pd\n",
    "import matplotlib.pyplot as plt\n",
    "from tabulate import tabulate\n"
   ]
  },
  {
   "cell_type": "code",
   "execution_count": 19,
   "id": "a67707f5-3ba8-42d4-99b2-cadf31e59782",
   "metadata": {},
   "outputs": [],
   "source": [
    "import sqlite3\n",
    "import datetime\n",
    "from dateutil.relativedelta import relativedelta\n",
    "import pandas as pd\n",
    "import matplotlib.pyplot as plt\n",
    "from tabulate import tabulate\n",
    "\n",
    "class LoanApplication:\n",
    "    def __init__(self, db_name='loan_data.db'):\n",
    "        self.conn = sqlite3.connect(db_name)\n",
    "        self.create_tables()\n",
    "\n",
    "    def create_tables(self):\n",
    "        with self.conn:\n",
    "            self.conn.execute('''\n",
    "                CREATE TABLE IF NOT EXISTS loans (\n",
    "                    id INTEGER PRIMARY KEY,\n",
    "                    property_value REAL,\n",
    "                    down_payment REAL,\n",
    "                    principal REAL,\n",
    "                    annual_interest_rate REAL,\n",
    "                    loan_term_years INTEGER,\n",
    "                    annual_property_tax_rate REAL,\n",
    "                    annual_insurance REAL,\n",
    "                    start_date TEXT,\n",
    "                    monthly_payment REAL,\n",
    "                    total_monthly_payment REAL\n",
    "                )\n",
    "            ''')\n",
    "            self.conn.execute('''\n",
    "                CREATE TABLE IF NOT EXISTS payments (\n",
    "                    id INTEGER PRIMARY KEY,\n",
    "                    loan_id INTEGER,\n",
    "                    payment_date TEXT,\n",
    "                    amount REAL,\n",
    "                    principal_paid REAL,\n",
    "                    interest_paid REAL,\n",
    "                    balance_after_payment REAL,\n",
    "                    FOREIGN KEY (loan_id) REFERENCES loans (id)\n",
    "                )\n",
    "            ''')\n",
    "\n",
    "    def create_loan(self, property_value, down_payment, annual_interest_rate, loan_term_years, annual_property_tax_rate, annual_insurance):\n",
    "        principal = property_value - down_payment\n",
    "        monthly_interest_rate = annual_interest_rate / 12 / 100\n",
    "        total_payments = loan_term_years * 12\n",
    "        \n",
    "        monthly_payment = principal * (monthly_interest_rate * (1 + monthly_interest_rate) ** total_payments) / ((1 + monthly_interest_rate) ** total_payments - 1)\n",
    "        monthly_property_tax = (property_value * annual_property_tax_rate / 100) / 12\n",
    "        monthly_insurance = annual_insurance / 12\n",
    "        total_monthly_payment = monthly_payment + monthly_property_tax + monthly_insurance\n",
    "        \n",
    "        start_date = datetime.date.today().isoformat()\n",
    "\n",
    "        with self.conn:\n",
    "            cursor = self.conn.execute('''\n",
    "                INSERT INTO loans (property_value, down_payment, principal, annual_interest_rate, loan_term_years, \n",
    "                                   annual_property_tax_rate, annual_insurance, start_date, monthly_payment, total_monthly_payment)\n",
    "                VALUES (?, ?, ?, ?, ?, ?, ?, ?, ?, ?)\n",
    "            ''', (property_value, down_payment, principal, annual_interest_rate, loan_term_years, \n",
    "                  annual_property_tax_rate, annual_insurance, start_date, monthly_payment, total_monthly_payment))\n",
    "            \n",
    "        return cursor.lastrowid\n",
    "\n",
    "    def input_payment(self, loan_id):\n",
    "        loan = self.get_loan(loan_id)\n",
    "        if not loan:\n",
    "            print(\"Loan not found.\")\n",
    "            return\n",
    "\n",
    "        while True:\n",
    "            try:\n",
    "                payment_date = input(\"Enter payment date (YYYY-MM-DD): \")\n",
    "                datetime.date.fromisoformat(payment_date)  # Validate date format\n",
    "                amount = float(input(\"Enter payment amount: $\"))\n",
    "                break\n",
    "            except ValueError:\n",
    "                print(\"Invalid input. Please try again.\")\n",
    "\n",
    "        if self.make_payment(loan_id, payment_date, amount):\n",
    "            print(\"Payment recorded successfully.\")\n",
    "        else:\n",
    "            print(\"Failed to record payment.\")\n",
    "\n",
    "    def delete_payment(self, loan_id):\n",
    "        payments = self.get_payment_history(loan_id)\n",
    "        if not payments:\n",
    "            print(\"No payments found for this loan.\")\n",
    "            return\n",
    "\n",
    "        print(\"\\nPayment History:\")\n",
    "        print(self.display_payment_history(loan_id))\n",
    "\n",
    "        while True:\n",
    "            try:\n",
    "                payment_id = int(input(\"Enter the ID of the payment to delete: \"))\n",
    "                if payment_id not in [payment['id'] for payment in payments]:\n",
    "                    print(\"Invalid payment ID. Please try again.\")\n",
    "                    continue\n",
    "                break\n",
    "            except ValueError:\n",
    "                print(\"Invalid input. Please enter a number.\")\n",
    "\n",
    "        with self.conn:\n",
    "            self.conn.execute('DELETE FROM payments WHERE id = ?', (payment_id,))\n",
    "        print(\"Payment deleted successfully.\")\n",
    "        self.recalculate_balances(loan_id, payment_id)\n",
    "\n",
    "    def recalculate_balances(self, loan_id, deleted_payment_id):\n",
    "        loan = self.get_loan(loan_id)\n",
    "        payments = self.get_payment_history(loan_id)\n",
    "        \n",
    "        previous_payment = next((p for p in reversed(payments) if p['id'] < deleted_payment_id), None)\n",
    "        \n",
    "        if previous_payment:\n",
    "            current_balance = previous_payment['balance_after_payment']\n",
    "        else:\n",
    "            current_balance = loan['principal']\n",
    "\n",
    "        monthly_interest_rate = loan['annual_interest_rate'] / 12 / 100\n",
    "\n",
    "        for payment in (p for p in payments if p['id'] > deleted_payment_id):\n",
    "            interest_due = current_balance * monthly_interest_rate\n",
    "            principal_paid = payment['amount'] - interest_due\n",
    "            current_balance -= principal_paid\n",
    "\n",
    "            with self.conn:\n",
    "                self.conn.execute('''\n",
    "                    UPDATE payments\n",
    "                    SET principal_paid = ?, interest_paid = ?, balance_after_payment = ?\n",
    "                    WHERE id = ?\n",
    "                ''', (principal_paid, interest_due, current_balance, payment['id']))\n",
    "\n",
    "    def make_payment(self, loan_id, payment_date, amount):\n",
    "        loan = self.get_loan(loan_id)\n",
    "        if not loan:\n",
    "            return False\n",
    "\n",
    "        balance = self.get_current_balance(loan_id)\n",
    "        monthly_interest_rate = loan['annual_interest_rate'] / 12 / 100\n",
    "        interest_due = balance * monthly_interest_rate\n",
    "        principal_paid = min(amount, balance) - interest_due if amount > interest_due else 0\n",
    "        interest_paid = min(amount, interest_due)\n",
    "        new_balance = balance - principal_paid\n",
    "\n",
    "        with self.conn:\n",
    "            self.conn.execute('''\n",
    "                INSERT INTO payments (loan_id, payment_date, amount, principal_paid, interest_paid, balance_after_payment)\n",
    "                VALUES (?, ?, ?, ?, ?, ?)\n",
    "            ''', (loan_id, payment_date, amount, principal_paid, interest_paid, new_balance))\n",
    "\n",
    "        return True\n",
    "\n",
    "    def get_loan(self, loan_id):\n",
    "        cursor = self.conn.execute('SELECT * FROM loans WHERE id = ?', (loan_id,))\n",
    "        columns = [column[0] for column in cursor.description]\n",
    "        result = cursor.fetchone()\n",
    "        return dict(zip(columns, result)) if result else None\n",
    "\n",
    "    def get_current_balance(self, loan_id):\n",
    "        cursor = self.conn.execute('''\n",
    "            SELECT balance_after_payment \n",
    "            FROM payments \n",
    "            WHERE loan_id = ? \n",
    "            ORDER BY payment_date DESC \n",
    "            LIMIT 1\n",
    "        ''', (loan_id,))\n",
    "        result = cursor.fetchone()\n",
    "        if result:\n",
    "            return result[0]\n",
    "        else:\n",
    "            loan = self.get_loan(loan_id)\n",
    "            return loan['principal'] if loan else None\n",
    "\n",
    "    def get_payment_history(self, loan_id):\n",
    "        cursor = self.conn.execute('SELECT * FROM payments WHERE loan_id = ? ORDER BY payment_date', (loan_id,))\n",
    "        columns = [column[0] for column in cursor.description]\n",
    "        return [dict(zip(columns, row)) for row in cursor.fetchall()]\n",
    "\n",
    "    def generate_amortization_schedule(self, loan_id):\n",
    "        loan = self.get_loan(loan_id)\n",
    "        if not loan:\n",
    "            return None\n",
    "\n",
    "        schedule = []\n",
    "        balance = loan['principal']\n",
    "        payment_number = 1\n",
    "        payment_date = datetime.date.fromisoformat(loan['start_date'])\n",
    "        monthly_interest_rate = loan['annual_interest_rate'] / 12 / 100\n",
    "\n",
    "        while balance > 0 and payment_number <= loan['loan_term_years'] * 12:\n",
    "            interest_payment = balance * monthly_interest_rate\n",
    "            principal_payment = loan['monthly_payment'] - interest_payment\n",
    "            balance = max(balance - principal_payment, 0)\n",
    "\n",
    "            schedule.append({\n",
    "                'Payment Number': payment_number,\n",
    "                'Payment Date': payment_date,\n",
    "                'Payment Amount': loan['monthly_payment'],\n",
    "                'Principal Paid': principal_payment,\n",
    "                'Interest Paid': interest_payment,\n",
    "                'Remaining Balance': balance\n",
    "            })\n",
    "\n",
    "            payment_number += 1\n",
    "            payment_date += relativedelta(months=1)\n",
    "\n",
    "        return pd.DataFrame(schedule)\n",
    "\n",
    "    def plot_amortization_schedule(self, loan_id):\n",
    "        schedule = self.generate_amortization_schedule(loan_id)\n",
    "        if schedule is None:\n",
    "            print(\"Unable to generate amortization schedule.\")\n",
    "            return\n",
    "\n",
    "        plt.figure(figsize=(12, 6))\n",
    "        plt.plot(schedule['Payment Number'], schedule['Principal Paid'], label='Principal')\n",
    "        plt.plot(schedule['Payment Number'], schedule['Interest Paid'], label='Interest')\n",
    "        plt.title('Amortization Schedule')\n",
    "        plt.xlabel('Payment Number')\n",
    "        plt.ylabel('Amount')\n",
    "        plt.legend()\n",
    "        plt.grid(True)\n",
    "        plt.show()\n",
    "\n",
    "    def generate_loan_summary(self, loan_id):\n",
    "        loan = self.get_loan(loan_id)\n",
    "        if not loan:\n",
    "            return \"Loan not found.\"\n",
    "\n",
    "        current_balance = self.get_current_balance(loan_id)\n",
    "        payments = self.get_payment_history(loan_id)\n",
    "        total_paid = sum(payment['amount'] for payment in payments)\n",
    "        total_interest_paid = sum(payment['interest_paid'] for payment in payments)\n",
    "\n",
    "        summary = f\"Loan Summary for Loan ID: {loan_id}\\n\"\n",
    "        summary += f\"Original Principal: ${loan['principal']:,.2f}\\n\"\n",
    "        summary += f\"Current Balance: ${current_balance:,.2f}\\n\"\n",
    "        summary += f\"Total Paid to Date: ${total_paid:,.2f}\\n\"\n",
    "        summary += f\"Total Interest Paid: ${total_interest_paid:,.2f}\\n\"\n",
    "        summary += f\"Monthly Payment: ${loan['monthly_payment']:,.2f}\\n\"\n",
    "        summary += f\"Total Monthly Payment (including taxes and insurance): ${loan['total_monthly_payment']:,.2f}\\n\"\n",
    "        summary += f\"Loan Term: {loan['loan_term_years']} years\\n\"\n",
    "        summary += f\"Start Date: {loan['start_date']}\\n\"\n",
    "        summary += f\"Annual Interest Rate: {loan['annual_interest_rate']}%\\n\"\n",
    "\n",
    "        return summary\n",
    "\n",
    "    def display_payment_history(self, loan_id):\n",
    "        payments = self.get_payment_history(loan_id)\n",
    "        if not payments:\n",
    "            return \"No payment history available for this loan.\"\n",
    "\n",
    "        table_data = [[\n",
    "            payment['id'],\n",
    "            payment['payment_date'],\n",
    "            f\"${payment['amount']:.2f}\",\n",
    "            f\"${payment['principal_paid']:.2f}\",\n",
    "            f\"${payment['interest_paid']:.2f}\",\n",
    "            f\"${payment['balance_after_payment']:.2f}\"\n",
    "        ] for payment in payments]\n",
    "\n",
    "        headers = [\"Payment ID\", \"Payment Date\", \"Amount Paid\", \"Principal Paid\", \"Interest Paid\", \"Remaining Balance\"]\n",
    "\n",
    "        table = tabulate(table_data, headers=headers, tablefmt=\"grid\")\n",
    "        return table"
   ]
  },
  {
   "cell_type": "code",
   "execution_count": 21,
   "id": "fa0b2a68-bc44-46f3-869b-cb040d8d1b43",
   "metadata": {},
   "outputs": [
    {
     "name": "stdout",
     "output_type": "stream",
     "text": [
      "\n",
      "Loan Management Menu:\n",
      "1. Make a payment\n",
      "2. View loan summary\n",
      "3. View payment history\n",
      "4. Delete a payment\n",
      "5. View amortization schedule\n",
      "6. Exit\n"
     ]
    },
    {
     "name": "stdin",
     "output_type": "stream",
     "text": [
      "Enter your choice (1-6):  3\n"
     ]
    },
    {
     "name": "stdout",
     "output_type": "stream",
     "text": [
      "No payment history available for this loan.\n",
      "\n",
      "Loan Management Menu:\n",
      "1. Make a payment\n",
      "2. View loan summary\n",
      "3. View payment history\n",
      "4. Delete a payment\n",
      "5. View amortization schedule\n",
      "6. Exit\n"
     ]
    },
    {
     "name": "stdin",
     "output_type": "stream",
     "text": [
      "Enter your choice (1-6):  4\n"
     ]
    },
    {
     "name": "stdout",
     "output_type": "stream",
     "text": [
      "No payments found for this loan.\n",
      "\n",
      "Loan Management Menu:\n",
      "1. Make a payment\n",
      "2. View loan summary\n",
      "3. View payment history\n",
      "4. Delete a payment\n",
      "5. View amortization schedule\n",
      "6. Exit\n"
     ]
    },
    {
     "name": "stdin",
     "output_type": "stream",
     "text": [
      "Enter your choice (1-6):  1\n",
      "Enter payment date (YYYY-MM-DD):  2024-08-12\n",
      "Enter payment amount: $ 1910.07\n"
     ]
    },
    {
     "name": "stdout",
     "output_type": "stream",
     "text": [
      "Payment recorded successfully.\n",
      "\n",
      "Loan Management Menu:\n",
      "1. Make a payment\n",
      "2. View loan summary\n",
      "3. View payment history\n",
      "4. Delete a payment\n",
      "5. View amortization schedule\n",
      "6. Exit\n"
     ]
    },
    {
     "name": "stdin",
     "output_type": "stream",
     "text": [
      "Enter your choice (1-6):  1\n",
      "Enter payment date (YYYY-MM-DD):  2024-09-12\n",
      "Enter payment amount: $ 3\n"
     ]
    },
    {
     "name": "stdout",
     "output_type": "stream",
     "text": [
      "Payment recorded successfully.\n",
      "\n",
      "Loan Management Menu:\n",
      "1. Make a payment\n",
      "2. View loan summary\n",
      "3. View payment history\n",
      "4. Delete a payment\n",
      "5. View amortization schedule\n",
      "6. Exit\n"
     ]
    },
    {
     "name": "stdin",
     "output_type": "stream",
     "text": [
      "Enter your choice (1-6):  3\n"
     ]
    },
    {
     "name": "stdout",
     "output_type": "stream",
     "text": [
      "+--------------+----------------+---------------+------------------+-----------------+---------------------+\n",
      "|   Payment ID | Payment Date   | Amount Paid   | Principal Paid   | Interest Paid   | Remaining Balance   |\n",
      "+==============+================+===============+==================+=================+=====================+\n",
      "|           11 | 2024-08-12     | $1910.07      | $910.07          | $1000.00        | $199089.93          |\n",
      "+--------------+----------------+---------------+------------------+-----------------+---------------------+\n",
      "|           12 | 2024-09-12     | $3.00         | $0.00            | $3.00           | $199089.93          |\n",
      "+--------------+----------------+---------------+------------------+-----------------+---------------------+\n",
      "\n",
      "Loan Management Menu:\n",
      "1. Make a payment\n",
      "2. View loan summary\n",
      "3. View payment history\n",
      "4. Delete a payment\n",
      "5. View amortization schedule\n",
      "6. Exit\n"
     ]
    },
    {
     "name": "stdin",
     "output_type": "stream",
     "text": [
      "Enter your choice (1-6):  4\n"
     ]
    },
    {
     "name": "stdout",
     "output_type": "stream",
     "text": [
      "\n",
      "Payment History:\n",
      "+--------------+----------------+---------------+------------------+-----------------+---------------------+\n",
      "|   Payment ID | Payment Date   | Amount Paid   | Principal Paid   | Interest Paid   | Remaining Balance   |\n",
      "+==============+================+===============+==================+=================+=====================+\n",
      "|           11 | 2024-08-12     | $1910.07      | $910.07          | $1000.00        | $199089.93          |\n",
      "+--------------+----------------+---------------+------------------+-----------------+---------------------+\n",
      "|           12 | 2024-09-12     | $3.00         | $0.00            | $3.00           | $199089.93          |\n",
      "+--------------+----------------+---------------+------------------+-----------------+---------------------+\n"
     ]
    },
    {
     "name": "stdin",
     "output_type": "stream",
     "text": [
      "Enter the ID of the payment to delete:  12\n"
     ]
    },
    {
     "name": "stdout",
     "output_type": "stream",
     "text": [
      "Payment deleted successfully.\n",
      "\n",
      "Loan Management Menu:\n",
      "1. Make a payment\n",
      "2. View loan summary\n",
      "3. View payment history\n",
      "4. Delete a payment\n",
      "5. View amortization schedule\n",
      "6. Exit\n"
     ]
    },
    {
     "name": "stdin",
     "output_type": "stream",
     "text": [
      "Enter your choice (1-6):  3\n"
     ]
    },
    {
     "name": "stdout",
     "output_type": "stream",
     "text": [
      "+--------------+----------------+---------------+------------------+-----------------+---------------------+\n",
      "|   Payment ID | Payment Date   | Amount Paid   | Principal Paid   | Interest Paid   | Remaining Balance   |\n",
      "+==============+================+===============+==================+=================+=====================+\n",
      "|           11 | 2024-08-12     | $1910.07      | $910.07          | $1000.00        | $199089.93          |\n",
      "+--------------+----------------+---------------+------------------+-----------------+---------------------+\n",
      "\n",
      "Loan Management Menu:\n",
      "1. Make a payment\n",
      "2. View loan summary\n",
      "3. View payment history\n",
      "4. Delete a payment\n",
      "5. View amortization schedule\n",
      "6. Exit\n"
     ]
    },
    {
     "name": "stdin",
     "output_type": "stream",
     "text": [
      "Enter your choice (1-6):  1\n",
      "Enter payment date (YYYY-MM-DD):  2024-09-12\n",
      "Enter payment amount: $ 1910.07\n"
     ]
    },
    {
     "name": "stdout",
     "output_type": "stream",
     "text": [
      "Payment recorded successfully.\n",
      "\n",
      "Loan Management Menu:\n",
      "1. Make a payment\n",
      "2. View loan summary\n",
      "3. View payment history\n",
      "4. Delete a payment\n",
      "5. View amortization schedule\n",
      "6. Exit\n"
     ]
    },
    {
     "name": "stdin",
     "output_type": "stream",
     "text": [
      "Enter your choice (1-6):  3\n"
     ]
    },
    {
     "name": "stdout",
     "output_type": "stream",
     "text": [
      "+--------------+----------------+---------------+------------------+-----------------+---------------------+\n",
      "|   Payment ID | Payment Date   | Amount Paid   | Principal Paid   | Interest Paid   | Remaining Balance   |\n",
      "+==============+================+===============+==================+=================+=====================+\n",
      "|           11 | 2024-08-12     | $1910.07      | $910.07          | $1000.00        | $199089.93          |\n",
      "+--------------+----------------+---------------+------------------+-----------------+---------------------+\n",
      "|           12 | 2024-09-12     | $1910.07      | $914.62          | $995.45         | $198175.31          |\n",
      "+--------------+----------------+---------------+------------------+-----------------+---------------------+\n",
      "\n",
      "Loan Management Menu:\n",
      "1. Make a payment\n",
      "2. View loan summary\n",
      "3. View payment history\n",
      "4. Delete a payment\n",
      "5. View amortization schedule\n",
      "6. Exit\n"
     ]
    },
    {
     "name": "stdin",
     "output_type": "stream",
     "text": [
      "Enter your choice (1-6):  2\n"
     ]
    },
    {
     "name": "stdout",
     "output_type": "stream",
     "text": [
      "Loan Summary for Loan ID: 9\n",
      "Original Principal: $200,000.00\n",
      "Current Balance: $198,175.31\n",
      "Total Paid to Date: $3,820.14\n",
      "Total Interest Paid: $1,995.45\n",
      "Monthly Payment: $1,687.71\n",
      "Total Monthly Payment (including taxes and insurance): $1,910.07\n",
      "Loan Term: 15 years\n",
      "Start Date: 2024-08-12\n",
      "Annual Interest Rate: 6.0%\n",
      "\n",
      "\n",
      "Loan Management Menu:\n",
      "1. Make a payment\n",
      "2. View loan summary\n",
      "3. View payment history\n",
      "4. Delete a payment\n",
      "5. View amortization schedule\n",
      "6. Exit\n"
     ]
    },
    {
     "name": "stdin",
     "output_type": "stream",
     "text": [
      "Enter your choice (1-6):  5\n"
     ]
    },
    {
     "data": {
      "image/png": "[encoded data removed]",
      "text/plain": [
       "<Figure size 1200x600 with 1 Axes>"
      ]
     },
     "metadata": {},
     "output_type": "display_data"
    },
    {
     "name": "stdout",
     "output_type": "stream",
     "text": [
      "\n",
      "Loan Management Menu:\n",
      "1. Make a payment\n",
      "2. View loan summary\n",
      "3. View payment history\n",
      "4. Delete a payment\n",
      "5. View amortization schedule\n",
      "6. Exit\n"
     ]
    },
    {
     "name": "stdin",
     "output_type": "stream",
     "text": [
      "Enter your choice (1-6):  6\n"
     ]
    },
    {
     "name": "stdout",
     "output_type": "stream",
     "text": [
      "Exiting the program.\n"
     ]
    }
   ],
   "source": [
    "# Example usage:\n",
    "if __name__ == \"__main__\":\n",
    "    app = LoanApplication()\n",
    "\n",
    "    # Create a new loan\n",
    "    loan_id = app.create_loan(\n",
    "        property_value=275000,\n",
    "        down_payment=75000,\n",
    "        annual_interest_rate=6,\n",
    "        loan_term_years=15,\n",
    "        annual_property_tax_rate=0.5339,\n",
    "        annual_insurance=1200\n",
    "    )\n",
    "\n",
    "    while True:\n",
    "        print(\"\\nLoan Management Menu:\")\n",
    "        print(\"1. Make a payment\")\n",
    "        print(\"2. View loan summary\")\n",
    "        print(\"3. View payment history\")\n",
    "        print(\"4. Delete a payment\")\n",
    "        print(\"5. View amortization schedule\")\n",
    "        print(\"6. Exit\")\n",
    "        \n",
    "        choice = input(\"Enter your choice (1-6): \")\n",
    "        \n",
    "        if choice == '1':\n",
    "            app.input_payment(loan_id)\n",
    "        elif choice == '2':\n",
    "            print(app.generate_loan_summary(loan_id))\n",
    "        elif choice == '3':\n",
    "            print(app.display_payment_history(loan_id))\n",
    "        elif choice == '4':\n",
    "            app.delete_payment(loan_id)\n",
    "        elif choice == '5':\n",
    "            app.plot_amortization_schedule(loan_id)\n",
    "        elif choice == '6':\n",
    "            print(\"Exiting the program.\")\n",
    "            break\n",
    "        else:\n",
    "            print(\"Invalid choice. Please try again.\")"
   ]
  },
  {
   "cell_type": "code",
   "execution_count": null,
   "id": "9a81f430-5198-4ca9-a2ae-ac205a1a9fa1",
   "metadata": {},
   "outputs": [],
   "source": []
  },
  {
   "cell_type": "code",
   "execution_count": null,
   "id": "143ffb8d-bcd5-490e-8d43-11a8dff6fa80",
   "metadata": {},
   "outputs": [],
   "source": []
  }
 ],
 "metadata": {
  "kernelspec": {
   "display_name": "Python 3 (ipykernel)",
   "language": "python",
   "name": "python3"
  },
  "language_info": {
   "codemirror_mode": {
    "name": "ipython",
    "version": 3
   },
   "file_extension": ".py",
   "mimetype": "text/x-python",
   "name": "python",
   "nbconvert_exporter": "python",
   "pygments_lexer": "ipython3",
   "version": "3.12.4"
  }
 },
 "nbformat": 4,
 "nbformat_minor": 5
}
